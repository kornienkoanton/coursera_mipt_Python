{
 "cells": [
  {
   "cell_type": "code",
   "execution_count": 2,
   "metadata": {
    "collapsed": true
   },
   "outputs": [],
   "source": [
    "import random"
   ]
  },
  {
   "cell_type": "code",
   "execution_count": 3,
   "metadata": {
    "collapsed": false
   },
   "outputs": [
    {
     "name": "stdout",
     "output_type": "stream",
     "text": [
      "[17, 17, 16, 14, 17, 10, 18, 20, 17, 20, 11, 20, 20]\n"
     ]
    }
   ],
   "source": [
    "numbers = []\n",
    "number_size = random.randint(10, 15)\n",
    "\n",
    "for _ in range(number_size):\n",
    "    numbers.append(random.randint(10,20))\n",
    "    \n",
    "print numbers"
   ]
  },
  {
   "cell_type": "code",
   "execution_count": 4,
   "metadata": {
    "collapsed": false
   },
   "outputs": [
    {
     "name": "stdout",
     "output_type": "stream",
     "text": [
      "6\n",
      "[17, 17]\n",
      "[10, 11, 14, 16, 17, 17, 17, 17, 18, 20, 20, 20, 20]\n",
      "17\n"
     ]
    }
   ],
   "source": [
    "numbers.sort()\n",
    "\n",
    "half_size = len(numbers) // 2\n",
    "print half_size\n",
    "mediana = None\n",
    "\n",
    "if number_size / 2 == 1:\n",
    "    mediana = numbers[half_size]\n",
    "else:\n",
    "    mediana = sum(numbers[half_size - 1:half_size+1]) / 2\n",
    "    print (numbers[half_size - 1:half_size+1])\n",
    "    #mediana = (numbers[half_size - 1]+numbers[half_size]) / 2   \n",
    "print numbers\n",
    "print mediana\n",
    "        "
   ]
  },
  {
   "cell_type": "code",
   "execution_count": 5,
   "metadata": {
    "collapsed": false
   },
   "outputs": [
    {
     "data": {
      "text/plain": [
       "17"
      ]
     },
     "execution_count": 5,
     "metadata": {},
     "output_type": "execute_result"
    }
   ],
   "source": [
    "import statistics\n",
    "\n",
    "statistics.median(numbers)\n"
   ]
  },
  {
   "cell_type": "code",
   "execution_count": null,
   "metadata": {
    "collapsed": true
   },
   "outputs": [],
   "source": []
  },
  {
   "cell_type": "code",
   "execution_count": null,
   "metadata": {
    "collapsed": true
   },
   "outputs": [],
   "source": []
  },
  {
   "cell_type": "code",
   "execution_count": 6,
   "metadata": {
    "collapsed": false
   },
   "outputs": [],
   "source": [
    "##Dict"
   ]
  },
  {
   "cell_type": "code",
   "execution_count": 7,
   "metadata": {
    "collapsed": false
   },
   "outputs": [
    {
     "name": "stdout",
     "output_type": "stream",
     "text": [
      "The Zen of Python, by Tim Peters\n",
      "\n",
      "Beautiful is better than ugly.\n",
      "Explicit is better than implicit.\n",
      "Simple is better than complex.\n",
      "Complex is better than complicated.\n",
      "Flat is better than nested.\n",
      "Sparse is better than dense.\n",
      "Readability counts.\n",
      "Special cases aren't special enough to break the rules.\n",
      "Although practicality beats purity.\n",
      "Errors should never pass silently.\n",
      "Unless explicitly silenced.\n",
      "In the face of ambiguity, refuse the temptation to guess.\n",
      "There should be one-- and preferably only one --obvious way to do it.\n",
      "Although that way may not be obvious at first unless you're Dutch.\n",
      "Now is better than never.\n",
      "Although never is often better than *right* now.\n",
      "If the implementation is hard to explain, it's a bad idea.\n",
      "If the implementation is easy to explain, it may be a good idea.\n",
      "Namespaces are one honking great idea -- let's do more of those!\n"
     ]
    }
   ],
   "source": [
    "import this"
   ]
  },
  {
   "cell_type": "code",
   "execution_count": 8,
   "metadata": {
    "collapsed": true
   },
   "outputs": [],
   "source": [
    "zen=\"\"\"\n",
    "The Zen of Python, by Tim Peters\n",
    "\n",
    "Beautiful is better than ugly.\n",
    "Explicit is better than implicit.\n",
    "Simple is better than complex.\n",
    "Complex is better than complicated.\n",
    "Flat is better than nested.\n",
    "Sparse is better than dense.\n",
    "Readability counts.\n",
    "Special cases aren't special enough to break the rules.\n",
    "Although practicality beats purity.\n",
    "Errors should never pass silently.\n",
    "Unless explicitly silenced.\n",
    "In the face of ambiguity, refuse the temptation to guess.\n",
    "There should be one-- and preferably only one --obvious way to do it.\n",
    "Although that way may not be obvious at first unless you're Dutch.\n",
    "Now is better than never.\n",
    "Although never is often better than *right* now.\n",
    "If the implementation is hard to explain, it's a bad idea.\n",
    "If the implementation is easy to explain, it may be a good idea.\n",
    "Namespaces are one honking great idea -- let's do more of those!\n",
    "\"\"\""
   ]
  },
  {
   "cell_type": "code",
   "execution_count": 9,
   "metadata": {
    "collapsed": false
   },
   "outputs": [
    {
     "name": "stdout",
     "output_type": "stream",
     "text": [
      "{'': 1, 'zen': 1, 'one': 3, 'implementation': 2, 'explain': 2, 'should': 2, 'better': 8, 'to': 5, 'only': 1, 'explicitly': 1, 'easy': 1, 'do': 2, 'good': 1, 'python': 1, 'break': 1, 'implicit': 1, 'namespaces': 1, 'not': 1, 'now': 2, 'bad': 1, 'sparse': 1, 'silently': 1, 'often': 1, 'hard': 1, 'idea': 3, 'are': 1, 'pass': 1, 'special': 2, 'readability': 1, 'errors': 1, 'dense': 1, 'temptation': 1, 'enough': 1, 'dutch': 1, 'be': 3, 'never': 3, 'complicated': 1, 'although': 3, \"aren't\": 1, 'by': 1, 'great': 1, 'of': 3, 'first': 1, 'and': 1, 'simple': 1, '*right*': 1, 'nested': 1, 'counts': 1, \"you're\": 1, 'guess': 1, \"it's\": 1, 'there': 1, 'peters': 1, 'way': 2, 'more': 1, 'flat': 1, 'ambiguity': 1, 'silenced': 1, 'cases': 1, 'than': 8, 'those': 1, 'honking': 1, 'practicality': 1, 'ugly': 1, 'obvious': 2, 'at': 1, 'beautiful': 1, 'is': 10, 'it': 2, 'beats': 1, 'purity': 1, 'in': 1, 'if': 2, 'preferably': 1, 'that': 1, 'tim': 1, 'complex': 2, 'unless': 2, 'may': 2, \"let's\": 1, 'a': 2, 'refuse': 1, 'rules': 1, 'explicit': 1, 'face': 1, 'the': 6}\n"
     ]
    }
   ],
   "source": [
    "zen_map = dict()\n",
    "\n",
    "for word in zen.split():\n",
    "    cleaned_word = word.strip('.,!- ').lower()\n",
    "    if cleaned_word not in zen_map:\n",
    "        zen_map[cleaned_word] = 0\n",
    "    \n",
    "    zen_map[cleaned_word] += 1\n",
    "    \n",
    "print (zen_map)"
   ]
  },
  {
   "cell_type": "code",
   "execution_count": 10,
   "metadata": {
    "collapsed": true
   },
   "outputs": [],
   "source": [
    "zen_items = zen_map.items()"
   ]
  },
  {
   "cell_type": "code",
   "execution_count": 11,
   "metadata": {
    "collapsed": false
   },
   "outputs": [
    {
     "data": {
      "text/plain": [
       "list"
      ]
     },
     "execution_count": 11,
     "metadata": {},
     "output_type": "execute_result"
    }
   ],
   "source": [
    "type(zen_items)"
   ]
  },
  {
   "cell_type": "code",
   "execution_count": 24,
   "metadata": {
    "collapsed": false
   },
   "outputs": [
    {
     "name": "stdout",
     "output_type": "stream",
     "text": [
      "[('is', 10), ('better', 8), ('than', 8), ('the', 6), ('to', 5), ('one', 3), ('idea', 3), ('be', 3), ('never', 3), ('although', 3), ('of', 3), ('implementation', 2), ('explain', 2), ('should', 2), ('do', 2), ('now', 2), ('special', 2), ('way', 2), ('obvious', 2), ('it', 2), ('if', 2), ('complex', 2), ('unless', 2), ('may', 2), ('a', 2), ('', 1), ('zen', 1), ('only', 1), ('explicitly', 1), ('easy', 1), ('good', 1), ('python', 1), ('break', 1), ('implicit', 1), ('namespaces', 1), ('not', 1), ('bad', 1), ('sparse', 1), ('silently', 1), ('often', 1), ('hard', 1), ('are', 1), ('pass', 1), ('readability', 1), ('errors', 1), ('dense', 1), ('temptation', 1), ('enough', 1), ('dutch', 1), ('complicated', 1), (\"aren't\", 1), ('by', 1), ('great', 1), ('first', 1), ('and', 1), ('simple', 1), ('*right*', 1), ('nested', 1), ('counts', 1), (\"you're\", 1), ('guess', 1), (\"it's\", 1), ('there', 1), ('peters', 1), ('more', 1), ('flat', 1), ('ambiguity', 1), ('silenced', 1), ('cases', 1), ('those', 1), ('honking', 1), ('practicality', 1), ('ugly', 1), ('at', 1), ('beautiful', 1), ('beats', 1), ('purity', 1), ('in', 1), ('preferably', 1), ('that', 1), ('tim', 1), (\"let's\", 1), ('refuse', 1), ('rules', 1), ('explicit', 1), ('face', 1)]\n"
     ]
    }
   ],
   "source": [
    "import operator\n",
    "\n",
    "word_count_zen = sorted(zen_items, key=operator.itemgetter(1),reverse=True)\n",
    "\n",
    "print (word_count_zen)"
   ]
  },
  {
   "cell_type": "code",
   "execution_count": 13,
   "metadata": {
    "collapsed": false
   },
   "outputs": [
    {
     "name": "stdout",
     "output_type": "stream",
     "text": [
      "[('is', 10), ('better', 8), ('than', 8)]\n"
     ]
    }
   ],
   "source": [
    "from collections import Counter\n",
    "\n",
    "cleaned_list = []\n",
    "for word in zen.split():\n",
    "    cleaned_list.append(word.strip('.,!- ').lower())\n",
    "    \n",
    "print (Counter(cleaned_list).most_common(3))"
   ]
  },
  {
   "cell_type": "code",
   "execution_count": 21,
   "metadata": {
    "collapsed": false
   },
   "outputs": [],
   "source": [
    "zen_map.get('sss', None)"
   ]
  },
  {
   "cell_type": "code",
   "execution_count": 41,
   "metadata": {
    "collapsed": false
   },
   "outputs": [],
   "source": [
    "zen_map['in']=2,3"
   ]
  },
  {
   "cell_type": "code",
   "execution_count": 44,
   "metadata": {
    "collapsed": false
   },
   "outputs": [
    {
     "name": "stdout",
     "output_type": "stream",
     "text": [
      "1\n"
     ]
    }
   ],
   "source": [
    "if 'asd' not in zen_map['in']:\n",
    "    print (1)"
   ]
  },
  {
   "cell_type": "code",
   "execution_count": 45,
   "metadata": {
    "collapsed": false
   },
   "outputs": [
    {
     "name": "stdout",
     "output_type": "stream",
     "text": [
      "(2, 3)\n"
     ]
    }
   ],
   "source": [
    "if zen_map['in'] is not None:\n",
    "    print zen_map['in']"
   ]
  },
  {
   "cell_type": "code",
   "execution_count": 68,
   "metadata": {
    "collapsed": true
   },
   "outputs": [],
   "source": [
    "zen_map['one'] = 'hello'"
   ]
  },
  {
   "cell_type": "code",
   "execution_count": 73,
   "metadata": {
    "collapsed": false
   },
   "outputs": [
    {
     "data": {
      "text/plain": [
       "dict"
      ]
     },
     "execution_count": 73,
     "metadata": {},
     "output_type": "execute_result"
    }
   ],
   "source": [
    "type(zen_map)"
   ]
  },
  {
   "cell_type": "code",
   "execution_count": 74,
   "metadata": {
    "collapsed": false
   },
   "outputs": [
    {
     "ename": "AttributeError",
     "evalue": "'str' object has no attribute 'append'",
     "output_type": "error",
     "traceback": [
      "\u001b[0;31m---------------------------------------------------------------------------\u001b[0m",
      "\u001b[0;31mAttributeError\u001b[0m                            Traceback (most recent call last)",
      "\u001b[0;32m<ipython-input-74-b58a6bc4012e>\u001b[0m in \u001b[0;36m<module>\u001b[0;34m()\u001b[0m\n\u001b[0;32m----> 1\u001b[0;31m \u001b[0mzen_map\u001b[0m\u001b[0;34m[\u001b[0m\u001b[0;34m'one'\u001b[0m\u001b[0;34m]\u001b[0m\u001b[0;34m.\u001b[0m\u001b[0mappend\u001b[0m\u001b[0;34m(\u001b[0m\u001b[0;34m'qqqq'\u001b[0m\u001b[0;34m)\u001b[0m\u001b[0;34m\u001b[0m\u001b[0m\n\u001b[0m",
      "\u001b[0;31mAttributeError\u001b[0m: 'str' object has no attribute 'append'"
     ]
    }
   ],
   "source": [
    "zen_map['one'].append('qqqq')"
   ]
  },
  {
   "cell_type": "code",
   "execution_count": 72,
   "metadata": {
    "collapsed": false
   },
   "outputs": [
    {
     "ename": "AttributeError",
     "evalue": "'str' object has no attribute 'append'",
     "output_type": "error",
     "traceback": [
      "\u001b[0;31m---------------------------------------------------------------------------\u001b[0m",
      "\u001b[0;31mAttributeError\u001b[0m                            Traceback (most recent call last)",
      "\u001b[0;32m<ipython-input-72-b4d38d179157>\u001b[0m in \u001b[0;36m<module>\u001b[0;34m()\u001b[0m\n\u001b[1;32m      1\u001b[0m \u001b[0md\u001b[0m \u001b[0;34m=\u001b[0m \u001b[0;34m{\u001b[0m\u001b[0;34m}\u001b[0m\u001b[0;34m\u001b[0m\u001b[0m\n\u001b[1;32m      2\u001b[0m \u001b[0md\u001b[0m\u001b[0;34m[\u001b[0m\u001b[0;34m'a'\u001b[0m\u001b[0;34m]\u001b[0m \u001b[0;34m=\u001b[0m \u001b[0;34m\"q\"\u001b[0m\u001b[0;34m\u001b[0m\u001b[0m\n\u001b[0;32m----> 3\u001b[0;31m \u001b[0md\u001b[0m\u001b[0;34m[\u001b[0m\u001b[0;34m'a'\u001b[0m\u001b[0;34m]\u001b[0m\u001b[0;34m.\u001b[0m\u001b[0mappend\u001b[0m\u001b[0;34m(\u001b[0m\u001b[0;34m's'\u001b[0m\u001b[0;34m)\u001b[0m\u001b[0;34m\u001b[0m\u001b[0m\n\u001b[0m",
      "\u001b[0;31mAttributeError\u001b[0m: 'str' object has no attribute 'append'"
     ]
    }
   ],
   "source": [
    "d = {}\n",
    "d['a'] = \"q\"\n",
    "d['a'].append('s')"
   ]
  },
  {
   "cell_type": "code",
   "execution_count": 65,
   "metadata": {
    "collapsed": false
   },
   "outputs": [
    {
     "name": "stdout",
     "output_type": "stream",
     "text": [
      "(3, 2, 'assad')\n"
     ]
    }
   ],
   "source": [
    "print zen_map['in']"
   ]
  },
  {
   "cell_type": "code",
   "execution_count": 27,
   "metadata": {
    "collapsed": false
   },
   "outputs": [
    {
     "name": "stdout",
     "output_type": "stream",
     "text": [
      "{'': 1, 'zen': 1, 'one': 3, 'implementation': 2, 'explain': 2, 'should': 2, 'better': 8, 'to': 5, 'only': 1, 'explicitly': 1, 'easy': 1, 'do': 2, 'good': 1, 'python': 1, 'break': 1, 'implicit': 1, 'namespaces': 1, 'not': 1, 'now': 2, 'bad': 1, 'sparse': 1, 'silently': 1, 'often': 1, 'hard': 1, 'idea': 3, 'are': 1, 'pass': 1, 'special': 2, 'readability': 1, 'errors': 1, 'dense': 1, 'temptation': 1, 'enough': 1, 'dutch': 1, 'be': 3, 'never': 3, 'complicated': 1, 'although': 3, \"aren't\": 1, 'by': 1, 'great': 1, 'of': 3, 'first': 1, 'and': 1, 'simple': 1, '*right*': 1, 'nested': 1, 'counts': 1, \"you're\": 1, 'guess': 1, \"it's\": 1, 'there': 1, 'peters': 1, 'way': 2, 'more': 1, 'flat': 1, 'ambiguity': 1, 'silenced': 1, 'cases': 1, 'than': 8, 'those': 1, 'honking': 1, 'practicality': 1, 'ugly': 1, 'obvious': 2, 'at': 1, 'beautiful': 1, 'is': 10, 'it': 2, 'beats': 1, 'purity': 1, 'in': 5, 'if': 2, 'preferably': 1, 'that': 1, 'tim': 1, 'complex': 2, 'unless': 2, 'may': 2, \"let's\": 1, 'a': 2, 'refuse': 1, 'rules': 1, 'explicit': 1, 'face': 1, 'the': 6}\n"
     ]
    }
   ],
   "source": [
    "print(zen_map)"
   ]
  },
  {
   "cell_type": "code",
   "execution_count": 15,
   "metadata": {
    "collapsed": true
   },
   "outputs": [],
   "source": [
    "##SET"
   ]
  },
  {
   "cell_type": "code",
   "execution_count": 16,
   "metadata": {
    "collapsed": false
   },
   "outputs": [
    {
     "name": "stdout",
     "output_type": "stream",
     "text": [
      "7\n"
     ]
    }
   ],
   "source": [
    "random_set = set()\n",
    "\n",
    "while True:\n",
    "    new_number = random.randint(1, 10)\n",
    "    if new_number in random_set:\n",
    "        break\n",
    "        \n",
    "    random_set.add(new_number)\n",
    "    \n",
    "print(len(random_set)+1)"
   ]
  },
  {
   "cell_type": "code",
   "execution_count": null,
   "metadata": {
    "collapsed": true
   },
   "outputs": [],
   "source": []
  }
 ],
 "metadata": {
  "kernelspec": {
   "display_name": "Python [default]",
   "language": "python",
   "name": "python2"
  },
  "language_info": {
   "codemirror_mode": {
    "name": "ipython",
    "version": 2
   },
   "file_extension": ".py",
   "mimetype": "text/x-python",
   "name": "python",
   "nbconvert_exporter": "python",
   "pygments_lexer": "ipython2",
   "version": "2.7.13"
  }
 },
 "nbformat": 4,
 "nbformat_minor": 2
}
